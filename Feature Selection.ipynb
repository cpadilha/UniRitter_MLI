{
 "cells": [
  {
   "cell_type": "code",
   "execution_count": 10,
   "metadata": {},
   "outputs": [],
   "source": [
    "import numpy as np\n",
    "import pandas as pd"
   ]
  },
  {
   "cell_type": "code",
   "execution_count": 30,
   "metadata": {},
   "outputs": [],
   "source": [
    "df = pd.read_csv('diabetes.csv', delimiter=',', header=None)"
   ]
  },
  {
   "cell_type": "code",
   "execution_count": 34,
   "metadata": {},
   "outputs": [],
   "source": [
    "# df"
   ]
  },
  {
   "cell_type": "code",
   "execution_count": 35,
   "metadata": {},
   "outputs": [],
   "source": [
    "data = df.get_values()"
   ]
  },
  {
   "cell_type": "code",
   "execution_count": 36,
   "metadata": {},
   "outputs": [],
   "source": [
    "labels = data[:,-1] # Selecionando a última coluna\n",
    "data = data[:,:-1] # Selecionando da primeira coluna até a penúltima"
   ]
  },
  {
   "cell_type": "code",
   "execution_count": 15,
   "metadata": {},
   "outputs": [],
   "source": [
    "# data = data.astype(np.float)"
   ]
  },
  {
   "cell_type": "code",
   "execution_count": 37,
   "metadata": {},
   "outputs": [],
   "source": [
    "# # Mapeamento categoria -> índice\n",
    "# class_dict = {\n",
    "#     'R': 0,\n",
    "#     'M': 1\n",
    "# }\n",
    "\n",
    "# labels = np.array([class_dict[c] for c in labels])"
   ]
  },
  {
   "cell_type": "markdown",
   "metadata": {},
   "source": [
    "<h2>Comparação de resultados com vs sem feature selection</h2>"
   ]
  },
  {
   "cell_type": "code",
   "execution_count": 38,
   "metadata": {},
   "outputs": [],
   "source": [
    "from sklearn.svm import SVC\n",
    "from sklearn.neural_network import MLPClassifier\n",
    "from sklearn.tree import DecisionTreeClassifier\n",
    "\n",
    "from sklearn.model_selection import KFold\n",
    "from sklearn.metrics import *"
   ]
  },
  {
   "cell_type": "code",
   "execution_count": 39,
   "metadata": {},
   "outputs": [],
   "source": [
    "kf = KFold(n_splits=10, random_state=0)"
   ]
  },
  {
   "cell_type": "code",
   "execution_count": 40,
   "metadata": {},
   "outputs": [],
   "source": [
    "resultados = {\n",
    "    'feature_selection': [],\n",
    "    'classificador': [],\n",
    "    'avg_acuracia': [],\n",
    "    'avg_recall': [],\n",
    "    'avg_precision': [],\n",
    "}\n",
    "\n",
    "acc_svm = []\n",
    "acc_mlp = []\n",
    "acc_tree = []\n",
    "\n",
    "recall_svm = []\n",
    "recall_mlp = []\n",
    "recall_tree = []\n",
    "\n",
    "precision_svm = []\n",
    "precision_mlp = []\n",
    "precision_tree = []\n",
    "\n",
    "for train_index, test_index in kf.split(data):\n",
    "    X_train, X_test = data[train_index], data[test_index]\n",
    "    y_train, y_test = labels[train_index], labels[test_index]\n",
    "    \n",
    "    svm = SVC()\n",
    "    mlp = MLPClassifier()\n",
    "    tree = DecisionTreeClassifier(max_depth=5)\n",
    "    \n",
    "    # Treinamento\n",
    "    svm.fit(X_train, y_train)\n",
    "    mlp.fit(X_train, y_train)\n",
    "    tree.fit(X_train, y_train)\n",
    "    \n",
    "    # Teste\n",
    "    svm_pred = svm.predict(X_test)\n",
    "    mlp_pred = mlp.predict(X_test)\n",
    "    tree_pred = tree.predict(X_test)\n",
    "    \n",
    "    # Avaliação\n",
    "    ## Acuracia\n",
    "    acc_svm.append(accuracy_score(y_test, svm_pred))\n",
    "    acc_mlp.append(accuracy_score(y_test, mlp_pred))\n",
    "    acc_tree.append(accuracy_score(y_test, tree_pred))\n",
    "    \n",
    "    ## Recall\n",
    "    recall_svm.append(recall_score(y_test, svm_pred, average='weighted'))\n",
    "    recall_mlp.append(recall_score(y_test, mlp_pred, average='weighted'))\n",
    "    recall_tree.append(recall_score(y_test, tree_pred, average='weighted'))\n",
    "    \n",
    "    ## Precisao\n",
    "    precision_svm.append(precision_score(y_test, svm_pred, average='weighted'))\n",
    "    precision_mlp.append(precision_score(y_test, mlp_pred, average='weighted'))\n",
    "    precision_tree.append(precision_score(y_test, tree_pred, average='weighted'))"
   ]
  },
  {
   "cell_type": "code",
   "execution_count": 41,
   "metadata": {},
   "outputs": [],
   "source": [
    "classif = ['RBF SVM', 'MLP', 'Decision Tree']\n",
    "\n",
    "for c in classif:\n",
    "    resultados['classificador'].append(c)\n",
    "    resultados['feature_selection'].append(False)\n",
    "    if c == 'RBF SVM':\n",
    "        resultados['avg_acuracia'].append(np.mean(acc_svm))\n",
    "        resultados['avg_recall'].append(np.mean(recall_svm))\n",
    "        resultados['avg_precision'].append(np.mean(precision_svm))\n",
    "    elif c == 'MLP':\n",
    "        resultados['avg_acuracia'].append(np.mean(acc_mlp))\n",
    "        resultados['avg_recall'].append(np.mean(recall_mlp))\n",
    "        resultados['avg_precision'].append(np.mean(precision_mlp))\n",
    "    else:\n",
    "        resultados['avg_acuracia'].append(np.mean(acc_tree))\n",
    "        resultados['avg_recall'].append(np.mean(recall_tree))\n",
    "        resultados['avg_precision'].append(np.mean(precision_tree))"
   ]
  },
  {
   "cell_type": "code",
   "execution_count": 42,
   "metadata": {},
   "outputs": [
    {
     "data": {
      "text/html": [
       "<div>\n",
       "<style scoped>\n",
       "    .dataframe tbody tr th:only-of-type {\n",
       "        vertical-align: middle;\n",
       "    }\n",
       "\n",
       "    .dataframe tbody tr th {\n",
       "        vertical-align: top;\n",
       "    }\n",
       "\n",
       "    .dataframe thead th {\n",
       "        text-align: right;\n",
       "    }\n",
       "</style>\n",
       "<table border=\"1\" class=\"dataframe\">\n",
       "  <thead>\n",
       "    <tr style=\"text-align: right;\">\n",
       "      <th></th>\n",
       "      <th>avg_acuracia</th>\n",
       "      <th>avg_precision</th>\n",
       "      <th>avg_recall</th>\n",
       "      <th>classificador</th>\n",
       "      <th>feature_selection</th>\n",
       "    </tr>\n",
       "  </thead>\n",
       "  <tbody>\n",
       "    <tr>\n",
       "      <th>0</th>\n",
       "      <td>0.651025</td>\n",
       "      <td>0.429038</td>\n",
       "      <td>0.651025</td>\n",
       "      <td>RBF SVM</td>\n",
       "      <td>False</td>\n",
       "    </tr>\n",
       "    <tr>\n",
       "      <th>1</th>\n",
       "      <td>0.674436</td>\n",
       "      <td>0.680897</td>\n",
       "      <td>0.674436</td>\n",
       "      <td>MLP</td>\n",
       "      <td>False</td>\n",
       "    </tr>\n",
       "    <tr>\n",
       "      <th>2</th>\n",
       "      <td>0.748684</td>\n",
       "      <td>0.747670</td>\n",
       "      <td>0.748684</td>\n",
       "      <td>Decision Tree</td>\n",
       "      <td>False</td>\n",
       "    </tr>\n",
       "  </tbody>\n",
       "</table>\n",
       "</div>"
      ],
      "text/plain": [
       "   avg_acuracia  avg_precision  avg_recall  classificador  feature_selection\n",
       "0      0.651025       0.429038    0.651025        RBF SVM              False\n",
       "1      0.674436       0.680897    0.674436            MLP              False\n",
       "2      0.748684       0.747670    0.748684  Decision Tree              False"
      ]
     },
     "execution_count": 42,
     "metadata": {},
     "output_type": "execute_result"
    }
   ],
   "source": [
    "pd.DataFrame(resultados)"
   ]
  },
  {
   "cell_type": "code",
   "execution_count": 43,
   "metadata": {},
   "outputs": [],
   "source": [
    "from sklearn.feature_selection import mutual_info_classif"
   ]
  },
  {
   "cell_type": "code",
   "execution_count": 44,
   "metadata": {},
   "outputs": [],
   "source": [
    "mi = mutual_info_classif(data, labels)"
   ]
  },
  {
   "cell_type": "code",
   "execution_count": 46,
   "metadata": {},
   "outputs": [
    {
     "data": {
      "text/plain": [
       "array([0.05275893, 0.144012  , 0.        , 0.04417186, 0.02379815,\n",
       "       0.08036976, 0.01349616, 0.07515459])"
      ]
     },
     "execution_count": 46,
     "metadata": {},
     "output_type": "execute_result"
    }
   ],
   "source": [
    "mi"
   ]
  },
  {
   "cell_type": "code",
   "execution_count": 47,
   "metadata": {},
   "outputs": [
    {
     "data": {
      "text/plain": [
       "(768L, 8L)"
      ]
     },
     "execution_count": 47,
     "metadata": {},
     "output_type": "execute_result"
    }
   ],
   "source": [
    "data.shape"
   ]
  },
  {
   "cell_type": "code",
   "execution_count": 48,
   "metadata": {},
   "outputs": [],
   "source": [
    "new_data = data[:, mi > 0.03]"
   ]
  },
  {
   "cell_type": "code",
   "execution_count": 49,
   "metadata": {},
   "outputs": [
    {
     "data": {
      "text/plain": [
       "(768L, 5L)"
      ]
     },
     "execution_count": 49,
     "metadata": {},
     "output_type": "execute_result"
    }
   ],
   "source": [
    "new_data.shape"
   ]
  },
  {
   "cell_type": "code",
   "execution_count": 50,
   "metadata": {},
   "outputs": [],
   "source": [
    "acc_svm = []\n",
    "acc_mlp = []\n",
    "acc_tree = []\n",
    "\n",
    "recall_svm = []\n",
    "recall_mlp = []\n",
    "recall_tree = []\n",
    "\n",
    "precision_svm = []\n",
    "precision_mlp = []\n",
    "precision_tree = []\n",
    "\n",
    "for train_index, test_index in kf.split(new_data):\n",
    "    X_train, X_test = new_data[train_index], new_data[test_index]\n",
    "    y_train, y_test = labels[train_index], labels[test_index]\n",
    "    \n",
    "    svm = SVC()\n",
    "    mlp = MLPClassifier()\n",
    "    tree = DecisionTreeClassifier(max_depth=5)\n",
    "    \n",
    "    # Treinamento\n",
    "    svm.fit(X_train, y_train)\n",
    "    mlp.fit(X_train, y_train)\n",
    "    tree.fit(X_train, y_train)\n",
    "    \n",
    "    # Teste\n",
    "    svm_pred = svm.predict(X_test)\n",
    "    mlp_pred = mlp.predict(X_test)\n",
    "    tree_pred = tree.predict(X_test)\n",
    "    \n",
    "    # Avaliação\n",
    "    ## Acuracia\n",
    "    acc_svm.append(accuracy_score(y_test, svm_pred))\n",
    "    acc_mlp.append(accuracy_score(y_test, mlp_pred))\n",
    "    acc_tree.append(accuracy_score(y_test, tree_pred))\n",
    "    \n",
    "    ## Recall\n",
    "    recall_svm.append(recall_score(y_test, svm_pred, average='weighted'))\n",
    "    recall_mlp.append(recall_score(y_test, mlp_pred, average='weighted'))\n",
    "    recall_tree.append(recall_score(y_test, tree_pred, average='weighted'))\n",
    "    \n",
    "    ## Precisao\n",
    "    precision_svm.append(precision_score(y_test, svm_pred, average='weighted'))\n",
    "    precision_mlp.append(precision_score(y_test, mlp_pred, average='weighted'))\n",
    "    precision_tree.append(precision_score(y_test, tree_pred, average='weighted'))"
   ]
  },
  {
   "cell_type": "code",
   "execution_count": 51,
   "metadata": {},
   "outputs": [],
   "source": [
    "classif = ['RBF SVM', 'MLP', 'Decision Tree']\n",
    "\n",
    "for c in classif:\n",
    "    resultados['classificador'].append(c)\n",
    "    resultados['feature_selection'].append(True)\n",
    "    if c == 'RBF SVM':\n",
    "        resultados['avg_acuracia'].append(np.mean(acc_svm))\n",
    "        resultados['avg_recall'].append(np.mean(recall_svm))\n",
    "        resultados['avg_precision'].append(np.mean(precision_svm))\n",
    "    elif c == 'MLP':\n",
    "        resultados['avg_acuracia'].append(np.mean(acc_mlp))\n",
    "        resultados['avg_recall'].append(np.mean(recall_mlp))\n",
    "        resultados['avg_precision'].append(np.mean(precision_mlp))\n",
    "    else:\n",
    "        resultados['avg_acuracia'].append(np.mean(acc_tree))\n",
    "        resultados['avg_recall'].append(np.mean(recall_tree))\n",
    "        resultados['avg_precision'].append(np.mean(precision_tree))"
   ]
  },
  {
   "cell_type": "code",
   "execution_count": 52,
   "metadata": {},
   "outputs": [
    {
     "data": {
      "text/html": [
       "<div>\n",
       "<style scoped>\n",
       "    .dataframe tbody tr th:only-of-type {\n",
       "        vertical-align: middle;\n",
       "    }\n",
       "\n",
       "    .dataframe tbody tr th {\n",
       "        vertical-align: top;\n",
       "    }\n",
       "\n",
       "    .dataframe thead th {\n",
       "        text-align: right;\n",
       "    }\n",
       "</style>\n",
       "<table border=\"1\" class=\"dataframe\">\n",
       "  <thead>\n",
       "    <tr style=\"text-align: right;\">\n",
       "      <th></th>\n",
       "      <th>avg_acuracia</th>\n",
       "      <th>avg_precision</th>\n",
       "      <th>avg_recall</th>\n",
       "      <th>classificador</th>\n",
       "      <th>feature_selection</th>\n",
       "    </tr>\n",
       "  </thead>\n",
       "  <tbody>\n",
       "    <tr>\n",
       "      <th>0</th>\n",
       "      <td>0.651025</td>\n",
       "      <td>0.429038</td>\n",
       "      <td>0.651025</td>\n",
       "      <td>RBF SVM</td>\n",
       "      <td>False</td>\n",
       "    </tr>\n",
       "    <tr>\n",
       "      <th>1</th>\n",
       "      <td>0.674436</td>\n",
       "      <td>0.680897</td>\n",
       "      <td>0.674436</td>\n",
       "      <td>MLP</td>\n",
       "      <td>False</td>\n",
       "    </tr>\n",
       "    <tr>\n",
       "      <th>2</th>\n",
       "      <td>0.748684</td>\n",
       "      <td>0.747670</td>\n",
       "      <td>0.748684</td>\n",
       "      <td>Decision Tree</td>\n",
       "      <td>False</td>\n",
       "    </tr>\n",
       "    <tr>\n",
       "      <th>3</th>\n",
       "      <td>0.651025</td>\n",
       "      <td>0.429038</td>\n",
       "      <td>0.651025</td>\n",
       "      <td>RBF SVM</td>\n",
       "      <td>True</td>\n",
       "    </tr>\n",
       "    <tr>\n",
       "      <th>4</th>\n",
       "      <td>0.677085</td>\n",
       "      <td>0.671353</td>\n",
       "      <td>0.677085</td>\n",
       "      <td>MLP</td>\n",
       "      <td>True</td>\n",
       "    </tr>\n",
       "    <tr>\n",
       "      <th>5</th>\n",
       "      <td>0.738209</td>\n",
       "      <td>0.747517</td>\n",
       "      <td>0.738209</td>\n",
       "      <td>Decision Tree</td>\n",
       "      <td>True</td>\n",
       "    </tr>\n",
       "  </tbody>\n",
       "</table>\n",
       "</div>"
      ],
      "text/plain": [
       "   avg_acuracia  avg_precision  avg_recall  classificador  feature_selection\n",
       "0      0.651025       0.429038    0.651025        RBF SVM              False\n",
       "1      0.674436       0.680897    0.674436            MLP              False\n",
       "2      0.748684       0.747670    0.748684  Decision Tree              False\n",
       "3      0.651025       0.429038    0.651025        RBF SVM               True\n",
       "4      0.677085       0.671353    0.677085            MLP               True\n",
       "5      0.738209       0.747517    0.738209  Decision Tree               True"
      ]
     },
     "execution_count": 52,
     "metadata": {},
     "output_type": "execute_result"
    }
   ],
   "source": [
    "pd.DataFrame(resultados)"
   ]
  },
  {
   "cell_type": "code",
   "execution_count": 53,
   "metadata": {},
   "outputs": [
    {
     "data": {
      "text/plain": [
       "(500, 268)"
      ]
     },
     "execution_count": 53,
     "metadata": {},
     "output_type": "execute_result"
    }
   ],
   "source": [
    "np.count_nonzero(labels == 0), np.count_nonzero(labels == 1)"
   ]
  }
 ],
 "metadata": {
  "kernelspec": {
   "display_name": "Python 2",
   "language": "python",
   "name": "python2"
  },
  "language_info": {
   "codemirror_mode": {
    "name": "ipython",
    "version": 2
   },
   "file_extension": ".py",
   "mimetype": "text/x-python",
   "name": "python",
   "nbconvert_exporter": "python",
   "pygments_lexer": "ipython2",
   "version": "2.7.15"
  }
 },
 "nbformat": 4,
 "nbformat_minor": 2
}
