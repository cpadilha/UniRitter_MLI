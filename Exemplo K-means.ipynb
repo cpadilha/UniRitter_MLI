{
 "cells": [
  {
   "cell_type": "markdown",
   "metadata": {},
   "source": [
    "<h1 style='text-align: center'>Exemplo de Aprendizado Não-Supervisionado com K-means</h1>"
   ]
  },
  {
   "cell_type": "code",
   "execution_count": 1,
   "metadata": {},
   "outputs": [],
   "source": [
    "import numpy as np\n",
    "import matplotlib.pyplot as plt\n",
    "import random\n",
    "\n",
    "%matplotlib inline"
   ]
  },
  {
   "cell_type": "markdown",
   "metadata": {},
   "source": [
    "<h2>Carregando os dados usando o Numpy</h2>"
   ]
  },
  {
   "cell_type": "code",
   "execution_count": 2,
   "metadata": {},
   "outputs": [],
   "source": [
    "data = np.genfromtxt('points.txt')"
   ]
  },
  {
   "cell_type": "code",
   "execution_count": 3,
   "metadata": {},
   "outputs": [
    {
     "data": {
      "text/plain": [
       "(300L, 2L)"
      ]
     },
     "execution_count": 3,
     "metadata": {},
     "output_type": "execute_result"
    }
   ],
   "source": [
    "data.shape"
   ]
  },
  {
   "cell_type": "code",
   "execution_count": 4,
   "metadata": {
    "scrolled": true
   },
   "outputs": [
    {
     "data": {
      "text/plain": [
       "<matplotlib.collections.PathCollection at 0x798f588>"
      ]
     },
     "execution_count": 4,
     "metadata": {},
     "output_type": "execute_result"
    },
    {
     "data": {
      "image/png": "[encoded data removed]",
      "text/plain": [
       "<Figure size 432x288 with 1 Axes>"
      ]
     },
     "metadata": {},
     "output_type": "display_data"
    }
   ],
   "source": [
    "plt.scatter(data[:,0], data[:, 1], marker='o')"
   ]
  },
  {
   "cell_type": "markdown",
   "metadata": {},
   "source": [
    "<h2>Distância entre um ponto e os centróides</h2>"
   ]
  },
  {
   "cell_type": "code",
   "execution_count": 5,
   "metadata": {},
   "outputs": [],
   "source": [
    "def calculate_dist(x, centroids):\n",
    "    \n",
    "    dist = []\n",
    "    for c in centroids:\n",
    "        d = np.linalg.norm(x - c) # Distância Euclidiana\n",
    "        dist.append(d)\n",
    "    \n",
    "    return np.array(dist)"
   ]
  },
  {
   "cell_type": "code",
   "execution_count": 35,
   "metadata": {},
   "outputs": [],
   "source": [
    "def kmeans(data, centroids, thresh):\n",
    "    \n",
    "    N = data.shape[0]\n",
    "    iteration = 0\n",
    "    k, dim = centroids.shape\n",
    "    prev_assignments = -1 * np.ones(N)\n",
    "    old_D = np.zeros((N, k))\n",
    "    \n",
    "    while True:\n",
    "        D = []\n",
    "        iteration += 1\n",
    "        \n",
    "        # Calculando distâncias entre os pontos e centroides\n",
    "        for i in range(N):\n",
    "            dist = calculate_dist(data[i], centroids)\n",
    "            D.append(dist)\n",
    "        \n",
    "        D = np.array(D)\n",
    "        \n",
    "        print(\"Iteração {}: Dists = {}\".format(iteration, np.sum(np.abs(old_D - D))))\n",
    "        \n",
    "        # Associando pontos aos centroides\n",
    "        assignments = np.argmin(D, axis=1)\n",
    "        \n",
    "        if (assignments == prev_assignments).all():\n",
    "            print('\\n')\n",
    "            print(\"Centroides = {}\".format(centroids))\n",
    "            return\n",
    "        \n",
    "        # Recalculando os centroides\n",
    "        centroid_sums = np.zeros((k, dim), np.float)\n",
    "        for i in range(N):\n",
    "            centroid_sums[assignments[i]] += data[i]\n",
    "        \n",
    "        for j in range(k):\n",
    "            centroids[j] = centroid_sums[j] / (np.sum(assignments == j) + 1e-15)\n",
    "        \n",
    "        prev_assignments = assignments.copy()\n",
    "        old_D = D.copy()"
   ]
  },
  {
   "cell_type": "code",
   "execution_count": 50,
   "metadata": {},
   "outputs": [],
   "source": [
    "random_idx = [random.randrange(data.shape[0]) for i in range(3)]"
   ]
  },
  {
   "cell_type": "code",
   "execution_count": 51,
   "metadata": {},
   "outputs": [],
   "source": [
    "centroids = data[random_idx] * 1000"
   ]
  },
  {
   "cell_type": "code",
   "execution_count": 52,
   "metadata": {},
   "outputs": [
    {
     "data": {
      "text/plain": [
       "<matplotlib.collections.PathCollection at 0x9b33eb8>"
      ]
     },
     "execution_count": 52,
     "metadata": {},
     "output_type": "execute_result"
    },
    {
     "data": {
      "image/png": "[encoded data removed]",
      "text/plain": [
       "<Figure size 432x288 with 1 Axes>"
      ]
     },
     "metadata": {},
     "output_type": "display_data"
    }
   ],
   "source": [
    "plt.scatter(data[:,0], data[:, 1], marker='o')\n",
    "plt.scatter(centroids[:,0], centroids[:, 1], c='r', marker='>')"
   ]
  },
  {
   "cell_type": "code",
   "execution_count": 53,
   "metadata": {},
   "outputs": [
    {
     "name": "stdout",
     "output_type": "stream",
     "text": [
      "Iteração 1: Dists = 1493829.2359\n",
      "Iteração 2: Dists = 1492475.33036\n",
      "Iteração 3: Dists = 197.080536975\n",
      "Iteração 4: Dists = 208.21951573\n",
      "Iteração 5: Dists = 83.7993861349\n",
      "Iteração 6: Dists = 84.8207438123\n",
      "Iteração 7: Dists = 89.4786758895\n",
      "Iteração 8: Dists = 127.264998008\n",
      "Iteração 9: Dists = 89.9215232908\n",
      "Iteração 10: Dists = 38.2088366732\n",
      "Iteração 11: Dists = 26.6709775095\n",
      "Iteração 12: Dists = 19.0036007622\n",
      "Iteração 13: Dists = 8.10439575952\n",
      "\n",
      "\n",
      "Centroides = [[-0.0623803  -0.12394397]\n",
      " [ 2.05159504  2.11016537]\n",
      " [ 1.00578938  1.01159839]]\n"
     ]
    }
   ],
   "source": [
    "kmeans(data, centroids, 0)"
   ]
  },
  {
   "cell_type": "code",
   "execution_count": 54,
   "metadata": {},
   "outputs": [
    {
     "data": {
      "text/plain": [
       "array([[-0.0623803 , -0.12394397],\n",
       "       [ 2.05159504,  2.11016537],\n",
       "       [ 1.00578938,  1.01159839]])"
      ]
     },
     "execution_count": 54,
     "metadata": {},
     "output_type": "execute_result"
    }
   ],
   "source": [
    "centroids"
   ]
  },
  {
   "cell_type": "code",
   "execution_count": 55,
   "metadata": {},
   "outputs": [
    {
     "data": {
      "text/plain": [
       "<matplotlib.collections.PathCollection at 0x9c646a0>"
      ]
     },
     "execution_count": 55,
     "metadata": {},
     "output_type": "execute_result"
    },
    {
     "data": {
      "image/png": "[encoded data removed]",
      "text/plain": [
       "<Figure size 432x288 with 1 Axes>"
      ]
     },
     "metadata": {},
     "output_type": "display_data"
    }
   ],
   "source": [
    "plt.scatter(data[:,0], data[:, 1], marker='o')\n",
    "plt.scatter(centroids[:,0], centroids[:, 1], c='r', marker='>')"
   ]
  }
 ],
 "metadata": {
  "kernelspec": {
   "display_name": "Python 2",
   "language": "python",
   "name": "python2"
  },
  "language_info": {
   "codemirror_mode": {
    "name": "ipython",
    "version": 2
   },
   "file_extension": ".py",
   "mimetype": "text/x-python",
   "name": "python",
   "nbconvert_exporter": "python",
   "pygments_lexer": "ipython2",
   "version": "2.7.15"
  }
 },
 "nbformat": 4,
 "nbformat_minor": 2
}
